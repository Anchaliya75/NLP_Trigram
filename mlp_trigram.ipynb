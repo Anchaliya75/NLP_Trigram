{
  "nbformat": 4,
  "nbformat_minor": 0,
  "metadata": {
    "colab": {
      "provenance": [],
      "authorship_tag": "ABX9TyMOUNR4OvB8TMpx1rD0xBXI",
      "include_colab_link": true
    },
    "kernelspec": {
      "name": "python3",
      "display_name": "Python 3"
    },
    "language_info": {
      "name": "python"
    }
  },
  "cells": [
    {
      "cell_type": "markdown",
      "metadata": {
        "id": "view-in-github",
        "colab_type": "text"
      },
      "source": [
        "<a href=\"https://colab.research.google.com/github/Anchaliya75/NLP_Trigram/blob/main/mlp_trigram.ipynb\" target=\"_parent\"><img src=\"https://colab.research.google.com/assets/colab-badge.svg\" alt=\"Open In Colab\"/></a>"
      ]
    },
    {
      "cell_type": "code",
      "execution_count": 38,
      "metadata": {
        "id": "Jj2sO7QQLa4O"
      },
      "outputs": [],
      "source": [
        "import torch\n",
        "import torch.nn.functional as F\n",
        "import torch.optim as optim\n",
        "import matplotlib.pyplot as plt # for making figures\n",
        "%matplotlib inline"
      ]
    },
    {
      "cell_type": "code",
      "source": [
        "words = open('data.txt','r').read().splitlines()\n"
      ],
      "metadata": {
        "id": "-JMoPBNHLnMP"
      },
      "execution_count": 39,
      "outputs": []
    },
    {
      "cell_type": "code",
      "source": [
        "words[0:4]"
      ],
      "metadata": {
        "colab": {
          "base_uri": "https://localhost:8080/"
        },
        "id": "kU_5fCSrUMoT",
        "outputId": "1fe89e14-42ef-419e-d779-29d0083a6639"
      },
      "execution_count": 40,
      "outputs": [
        {
          "output_type": "execute_result",
          "data": {
            "text/plain": [
              "['emma', 'olivia', 'ava', 'isabella']"
            ]
          },
          "metadata": {},
          "execution_count": 40
        }
      ]
    },
    {
      "cell_type": "code",
      "source": [
        "len(words)"
      ],
      "metadata": {
        "colab": {
          "base_uri": "https://localhost:8080/"
        },
        "id": "o_DHjyasUTPi",
        "outputId": "13806974-9164-4461-aa81-81d0e313aaa2"
      },
      "execution_count": 41,
      "outputs": [
        {
          "output_type": "execute_result",
          "data": {
            "text/plain": [
              "32033"
            ]
          },
          "metadata": {},
          "execution_count": 41
        }
      ]
    },
    {
      "cell_type": "code",
      "source": [
        "chars = sorted(list(set(''.join(words))))\n",
        "stoi = {s:i+1 for i,s in enumerate(chars)}\n",
        "stoi['.'] = 0\n",
        "itos = {i:s for s,i in stoi.items()}\n"
      ],
      "metadata": {
        "id": "EwCa6GX2LwtT"
      },
      "execution_count": 42,
      "outputs": []
    },
    {
      "cell_type": "code",
      "source": [
        "n_gram   = 3\n",
        "context  = ['.']*n_gram\n",
        "n=0\n",
        "for w  in words[:1]:\n",
        "   temp =['.']*n_gram+list(w)+['.']\n",
        "   for a ,b in zip(temp,temp[n_gram:]):\n",
        "      print(''.join(temp[n:n+n_gram]),b)\n",
        "      n+=1\n",
        "     "
      ],
      "metadata": {
        "colab": {
          "base_uri": "https://localhost:8080/"
        },
        "id": "8HuvPefzUXhW",
        "outputId": "55f10bb8-92a6-410f-ff3b-e1d6a7c991f7"
      },
      "execution_count": 43,
      "outputs": [
        {
          "output_type": "stream",
          "name": "stdout",
          "text": [
            "... e\n",
            "..e m\n",
            ".em m\n",
            "emm a\n",
            "mma .\n"
          ]
        }
      ]
    },
    {
      "cell_type": "code",
      "source": [
        "def create_dataset(words,n_gram):\n",
        "  xs= []\n",
        "  ys=[]\n",
        "  n_gram   = n_gram\n",
        "  for w  in words:\n",
        "    temp =['.']*n_gram+list(w)+['.']\n",
        "    for a  in temp[n_gram:]:\n",
        "      train_word = list(temp[:n_gram])\n",
        "      train_x_idx = [stoi[i] for i in train_word]\n",
        "      train_y_idx = stoi[a]\n",
        "      temp = temp[1:]\n",
        "      xs.append(train_x_idx)\n",
        "      ys.append(train_y_idx)\n",
        "  xs= torch.tensor(xs)\n",
        "  ys=torch.tensor(ys)\n",
        "  return xs,ys\n",
        "      "
      ],
      "metadata": {
        "id": "1NTajQ5cL67Y"
      },
      "execution_count": 44,
      "outputs": []
    },
    {
      "cell_type": "code",
      "source": [
        "import random\n",
        "random.seed(42)\n",
        "random.shuffle(words)\n",
        "n1 = int(0.7*len(words))\n",
        "\n",
        "\n",
        "Xtr, Ytr = create_dataset(words[:n1],3)\n",
        "Xte, Yte = create_dataset(words[n1:],3)"
      ],
      "metadata": {
        "id": "DdhdKvzSL_Vx"
      },
      "execution_count": 45,
      "outputs": []
    },
    {
      "cell_type": "code",
      "source": [
        "#Data\n",
        "g = torch.Generator().manual_seed(2147483647)\n",
        "#One hot encoding of training Data\n",
        "X_one_hot_train  = F.one_hot(Xtr,num_classes=27).float()\n",
        "# X_one_hot_train =(samples,3,27)\n",
        "# C  ->>>   (27,10)\n",
        "\n",
        "# Converting this one hot vector of all data to a feature vector of 2 i.e embedding 27 features into 2 features\n",
        "C = torch.rand((27,10),generator =g)\n",
        "W1= torch.randn((30, 100), generator=g)\n",
        "b1 = torch.randn(100, generator=g)\n",
        "W2 = torch.randn((100, 27), generator=g)\n",
        "b2 = torch.randn(27, generator=g)\n",
        "parameters = [C, W1, b1, W2, b2]\n",
        "\n",
        "for p  in parameters:\n",
        "   p.requires_grad= True\n"
      ],
      "metadata": {
        "id": "gZ-S42K1MQbd"
      },
      "execution_count": 46,
      "outputs": []
    },
    {
      "cell_type": "code",
      "source": [
        "optimizer = optim.Adam(parameters,lr=0.01)\n",
        "lossi= []\n",
        "stepi=[]"
      ],
      "metadata": {
        "id": "TpO9pvW4TWk2"
      },
      "execution_count": 47,
      "outputs": []
    },
    {
      "cell_type": "code",
      "source": [
        "# training Loss\n",
        "for i in range(200):\n",
        "  \n",
        "  # h=  ((X_one_hot @ C).view(x.shape[0],-1))@ W1 +b1\n",
        "  # X_one_hot  --->(32,3,27)\n",
        "  # C ->>>>>>   [27,2]  Feature Vector\n",
        "  embedding  =  (X_one_hot_train @ C).view(Xtr.shape[0],-1)\n",
        "  hidden = embedding @ W1  +b1\n",
        "  output = hidden @ W2 +b2\n",
        "  loss  =  F.cross_entropy(output,Ytr)\n",
        "  lossi.append(loss.item())\n",
        "  stepi.append(i)\n",
        "  \n",
        "  #Backward Pass\n",
        "  for p  in parameters:\n",
        "    p.grad  = None\n",
        "  loss .backward()\n",
        "  # print(loss)\n",
        "  #Updating\n",
        "  optimizer.step()\n",
        "  # for p  in parameters:\n",
        "  #   if(i<100 ):\n",
        "  #     lr = 0.01\n",
        "  #   else:\n",
        "  #     lr =0.0001\n",
        "  #   p.data -= lr * p.grad\n",
        "\n"
      ],
      "metadata": {
        "id": "6j0KZxnZM62E"
      },
      "execution_count": 48,
      "outputs": []
    },
    {
      "cell_type": "code",
      "source": [
        "plt.plot(stepi,lossi)\n"
      ],
      "metadata": {
        "colab": {
          "base_uri": "https://localhost:8080/",
          "height": 284
        },
        "id": "icuFiT3UJjsP",
        "outputId": "a34a230e-9bef-4faf-c12f-053b6aca6ff8"
      },
      "execution_count": 49,
      "outputs": [
        {
          "output_type": "execute_result",
          "data": {
            "text/plain": [
              "[<matplotlib.lines.Line2D at 0x7f881ac2b340>]"
            ]
          },
          "metadata": {},
          "execution_count": 49
        },
        {
          "output_type": "display_data",
          "data": {
            "text/plain": [
              "<Figure size 432x288 with 1 Axes>"
            ],
            "image/png": "[encoded data removed]"
          },
          "metadata": {
            "needs_background": "light"
          }
        }
      ]
    },
    {
      "cell_type": "code",
      "source": [
        "# testing Loss\n",
        "X_one_hot_test  = F.one_hot(Xte,num_classes=27).float()\n",
        "embedding  =  (X_one_hot_test @ C).view(Xte.shape[0],-1)\n",
        "hidden = embedding @ W1  +b1\n",
        "output = hidden @ W2 +b2\n",
        "loss  =  F.cross_entropy(output,Yte)\n",
        "print(loss)"
      ],
      "metadata": {
        "colab": {
          "base_uri": "https://localhost:8080/"
        },
        "id": "vCFjPKAJNdZn",
        "outputId": "ce2f0bd3-37bb-4722-c53f-7eb7b0176702"
      },
      "execution_count": 50,
      "outputs": [
        {
          "output_type": "stream",
          "name": "stdout",
          "text": [
            "tensor(2.4513, grad_fn=<NllLossBackward0>)\n"
          ]
        }
      ]
    },
    {
      "cell_type": "code",
      "source": [
        "for _ in range(20):\n",
        "    \n",
        "    out = []\n",
        "    context = [0] * 3 # initialize with all ...\n",
        "    while True:\n",
        "      X_one_hot =  F.one_hot(torch.tensor(context),num_classes =27).float()\n",
        "      emb  = X_one_hot @ C\n",
        "      h = (emb.view(1, -1) @ W1 + b1)\n",
        "      logits = h @ W2 + b2\n",
        "      probs = F.softmax(logits,dim =1)\n",
        "      ix = torch.multinomial(probs, num_samples=1, generator=g).item()\n",
        "      context = context[1:] + [ix]\n",
        "      out.append(ix)\n",
        "      if ix == 0:\n",
        "        break\n",
        "    print(''.join(itos[i] for i in out))"
      ],
      "metadata": {
        "colab": {
          "base_uri": "https://localhost:8080/"
        },
        "id": "fvKW5IVMKu-n",
        "outputId": "50860d40-f34e-444c-aa73-4607a180d6ed"
      },
      "execution_count": 51,
      "outputs": [
        {
          "output_type": "stream",
          "name": "stdout",
          "text": [
            "mirrssral.\n",
            "ciaro.\n",
            "sze.\n",
            "guend.\n",
            "fuile.\n",
            "klid.\n",
            "rmonei.\n",
            "veel.\n",
            "sazanialaha.\n",
            "maa.\n",
            "lhisiau.\n",
            "rali.\n",
            "lann.\n",
            "san.\n",
            "eli.\n",
            "nolam.\n",
            "rry.\n",
            "wtztaaanin.\n",
            "mea.\n",
            "iatonamaii.\n"
          ]
        }
      ]
    }
  ]
}